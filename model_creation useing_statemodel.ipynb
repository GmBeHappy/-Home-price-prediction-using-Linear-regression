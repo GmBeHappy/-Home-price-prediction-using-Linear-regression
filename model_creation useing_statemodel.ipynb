{
 "cells": [
  {
   "cell_type": "code",
   "execution_count": 4,
   "metadata": {},
   "outputs": [],
   "source": [
    "import pandas as pd\n",
    "import numpy as np\n",
    "import matplotlib.pyplot as plt\n",
    "import seaborn as sns\n",
    "import statsmodels.api as sm\n",
    "import statsmodels.formula.api as smf\n",
    "from sklearn.model_selection import train_test_split"
   ]
  },
  {
   "cell_type": "code",
   "execution_count": 5,
   "metadata": {},
   "outputs": [],
   "source": [
    "#df = pd.read_csv(\"kc_house_data.csv\")\n",
    "df = pd.read_csv(\"kc_house_data_edited.csv\")\n",
    "#X = df[['bedrooms', 'bathrooms', 'sqft_living', 'sqft_lot', 'floors', 'sqft_above', 'sqft_basement', 'yr_built']]\n",
    "X = df[['bedrooms', 'bathrooms', 'sqft_living', 'floors', 'sqft_above', 'sqft_basement', 'yr_old']]\n",
    "#X = df[['bedrooms', 'bathrooms', 'sqft_living', 'floors', 'sqft_above', 'sqft_basement']]\n",
    "y = df['price']\n",
    "x_train, x_test, y_train, y_test = train_test_split(X, y, test_size = 0.2, random_state = 42)"
   ]
  },
  {
   "cell_type": "code",
   "execution_count": null,
   "metadata": {},
   "outputs": [],
   "source": [
    "#sns.pairplot(df[['price','bedrooms', 'bathrooms', 'sqft_living', 'sqft_lot', 'floors', 'sqft_above', 'sqft_basement', 'yr_built']],\n",
    "sns.pairplot(df[['price','bedrooms', 'bathrooms', 'sqft_living', 'floors', 'sqft_above', 'sqft_basement', 'yr_old']],\n",
    "#sns.pairplot(df[['price','bedrooms', 'bathrooms', 'sqft_living', 'floors', 'sqft_above', 'sqft_basement']],"
   ]
  },
  {
   "cell_type": "code",
   "execution_count": 10,
   "metadata": {},
   "outputs": [
    {
     "ename": "SyntaxError",
     "evalue": "unexpected EOF while parsing (Temp/ipykernel_7016/1119498570.py, line 3)",
     "output_type": "error",
     "traceback": [
      "\u001b[1;36m  File \u001b[1;32m\"C:\\Users\\gm\\AppData\\Local\\Temp/ipykernel_7016/1119498570.py\"\u001b[1;36m, line \u001b[1;32m3\u001b[0m\n\u001b[1;33m    # model_a = smf.ols(formula='Sales ~ TV + Radio', data=df).fit()\u001b[0m\n\u001b[1;37m                                                                    ^\u001b[0m\n\u001b[1;31mSyntaxError\u001b[0m\u001b[1;31m:\u001b[0m unexpected EOF while parsing\n"
     ]
    }
   ],
   "source": [
    "# formula: response ~ predictor1 + predictor2\n",
    "model_a = smf.ols(formula='price ~ bedrooms + bathrooms + sqft_living + floors + sqft_above + sqft_basement + yr_old', data=X\n",
    "# model_a = smf.ols(formula='Sales ~ TV + Radio', data=df).fit()"
   ]
  },
  {
   "cell_type": "code",
   "execution_count": 7,
   "metadata": {},
   "outputs": [
    {
     "name": "stdout",
     "output_type": "stream",
     "text": [
      "                            OLS Regression Results                            \n",
      "==============================================================================\n",
      "Dep. Variable:                  price   R-squared:                       0.264\n",
      "Model:                            OLS   Adj. R-squared:                  0.237\n",
      "Method:                 Least Squares   F-statistic:                     9.623\n",
      "Date:                Mon, 25 Oct 2021   Prob (F-statistic):           7.24e-08\n",
      "Time:                        20:48:53   Log-Likelihood:                -1830.0\n",
      "No. Observations:                 140   AIC:                             3672.\n",
      "Df Residuals:                     134   BIC:                             3690.\n",
      "Df Model:                           5                                         \n",
      "Covariance Type:            nonrobust                                         \n",
      "=================================================================================\n",
      "                    coef    std err          t      P>|t|      [0.025      0.975]\n",
      "---------------------------------------------------------------------------------\n",
      "Intercept      -6.73e+04   4.33e+04     -1.554      0.123   -1.53e+05    1.84e+04\n",
      "bedrooms      -2.707e+04   1.67e+04     -1.622      0.107   -6.01e+04    5944.466\n",
      "bathrooms      2.046e+05   8.05e+04      2.542      0.012    4.54e+04    3.64e+05\n",
      "sqft_living     143.6563     28.852      4.979      0.000      86.592     200.721\n",
      "floors         -6.73e+04   4.33e+04     -1.554      0.123   -1.53e+05    1.84e+04\n",
      "sqft_above      101.3282     46.147      2.196      0.030      10.058     192.599\n",
      "sqft_basement    42.3281     46.401      0.912      0.363     -49.445     134.101\n",
      "yr_old         1394.5815    390.381      3.572      0.000     622.475    2166.688\n",
      "==============================================================================\n",
      "Omnibus:                        3.841   Durbin-Watson:                   2.003\n",
      "Prob(Omnibus):                  0.147   Jarque-Bera (JB):                3.500\n",
      "Skew:                           0.384   Prob(JB):                        0.174\n",
      "Kurtosis:                       3.103   Cond. No.                     1.91e+19\n",
      "==============================================================================\n",
      "\n",
      "Notes:\n",
      "[1] Standard Errors assume that the covariance matrix of the errors is correctly specified.\n",
      "[2] The smallest eigenvalue is 5.78e-31. This might indicate that there are\n",
      "strong multicollinearity problems or that the design matrix is singular.\n"
     ]
    }
   ],
   "source": [
    "print(model_a.summary())"
   ]
  },
  {
   "cell_type": "code",
   "execution_count": 8,
   "metadata": {},
   "outputs": [
    {
     "data": {
      "text/plain": [
       "Intercept        -67295.222162\n",
       "bedrooms         -27069.350024\n",
       "bathrooms        204580.640073\n",
       "sqft_living         143.656282\n",
       "floors           -67295.222162\n",
       "sqft_above          101.328163\n",
       "sqft_basement        42.328120\n",
       "yr_old             1394.581503\n",
       "dtype: float64"
      ]
     },
     "execution_count": 8,
     "metadata": {},
     "output_type": "execute_result"
    }
   ],
   "source": [
    "model_a.params # coef"
   ]
  },
  {
   "cell_type": "code",
   "execution_count": null,
   "metadata": {},
   "outputs": [],
   "source": [
    "model_a.pvalues"
   ]
  }
 ],
 "metadata": {
  "interpreter": {
   "hash": "7c4476ca41e624310cf7401c8f178fb48e1dfc3705fd65f12ab7210d2fbfd576"
  },
  "kernelspec": {
   "display_name": "Python 3.9.7 64-bit",
   "name": "python3"
  },
  "language_info": {
   "codemirror_mode": {
    "name": "ipython",
    "version": 3
   },
   "file_extension": ".py",
   "mimetype": "text/x-python",
   "name": "python",
   "nbconvert_exporter": "python",
   "pygments_lexer": "ipython3",
   "version": "3.9.7"
  },
  "orig_nbformat": 4
 },
 "nbformat": 4,
 "nbformat_minor": 2
}
